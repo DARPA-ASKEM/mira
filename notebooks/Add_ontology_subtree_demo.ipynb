{
 "cells": [
  {
   "cell_type": "markdown",
   "id": "ef5b3af7-d485-4bd0-b189-8479895528c7",
   "metadata": {},
   "source": [
    "## Demostration of the ```add_ontology_subtree``` endpoint\n",
    "\n",
    "We demonstrate the ability to add any ontology term to the MIRA DKG given its curie. We also provide the option to add all taxonomy terms in the subtree of the specified taxonomy term to add. Currently we only support the addition of **ncbitaxonomy** terms. This demonstration will make use of the ncbitaxonomy term here: https://www.ncbi.nlm.nih.gov/Taxonomy/Browser/wwwtax.cgi?mode=Undef&id=9871&lvl=3&lin=f&keep=1&srchmode=1&unlock. "
   ]
  },
  {
   "cell_type": "code",
   "execution_count": 97,
   "id": "7658e870-7018-4bb9-a93d-375cceccf221",
   "metadata": {},
   "outputs": [],
   "source": [
    "import requests\n",
    "from mira.dkg.client import Neo4jClient"
   ]
  },
  {
   "cell_type": "markdown",
   "id": "3b5392b6-1c77-4861-aeed-1e31522aef2f",
   "metadata": {},
   "source": [
    "## We define an instance of the Neo4jClient to query for the nodes and edges added to the DKG"
   ]
  },
  {
   "cell_type": "code",
   "execution_count": 98,
   "id": "d224299d-35fd-4049-b23b-faa216a90c78",
   "metadata": {},
   "outputs": [],
   "source": [
    "client = Neo4jClient()"
   ]
  },
  {
   "cell_type": "markdown",
   "id": "b00a331d-6983-47a7-a408-ed8bdbcf5528",
   "metadata": {},
   "source": [
    "## Define the ncbitaxonomy curie to add.\n",
    "We first only add term itself and no terms under its subtree to the DKG."
   ]
  },
  {
   "cell_type": "code",
   "execution_count": 99,
   "id": "4f772600-8e3a-43bc-a3eb-47314e5cf6b7",
   "metadata": {},
   "outputs": [],
   "source": [
    "curie = 'ncbitaxon:9871'\n",
    "add_subtree = False\n",
    "params = {\"curie\": curie, \"add_subtree\": False}"
   ]
  },
  {
   "cell_type": "code",
   "execution_count": 102,
   "id": "18c57e07-eb4a-4993-85c4-e63509a38987",
   "metadata": {},
   "outputs": [
    {
     "data": {
      "text/plain": [
       "200"
      ]
     },
     "execution_count": 102,
     "metadata": {},
     "output_type": "execute_result"
    }
   ],
   "source": [
    "response = requests.post(\"http://localhost:8000/api/add_ontology_subtree\", params=params)\n",
    "response.status_code"
   ]
  },
  {
   "cell_type": "markdown",
   "id": "632f5946-c689-4b95-94a8-232bdf72cfbb",
   "metadata": {},
   "source": [
    "## Query for the added node\n",
    "\n",
    "We also query for any relations where the added node is the target of the relation under relation type ```subclass_of```. Children terminology have a directed ```subclass_of``` relation towards the parent term in the ncbitaxonomy. The absence of any relation information where ```ncbitaxon:9871``` is the target node under relation type ```subclass_of``` shows that we only added the node."
   ]
  },
  {
   "cell_type": "code",
   "execution_count": 106,
   "id": "247695f2-64e6-4de3-95e7-9c81c3f9a052",
   "metadata": {},
   "outputs": [
    {
     "name": "stdout",
     "output_type": "stream",
     "text": [
      "{'property_values': ['NCBITaxon:genus'], 'xref_types': [''], 'property_predicates': ['has_rank'], 'obsolete': False, 'xrefs': ['gc_id:1'], 'name': 'Odocoileus', 'id': 'ncbitaxon:9871', 'type': 'class'}\n"
     ]
    }
   ],
   "source": [
    "# The ncbitaxonomy term with identifier 9871 has name \"Odocoileus\" in the DKG which corresponds to this term: \n",
    "# https://www.ncbi.nlm.nih.gov/Taxonomy/Browser/wwwtax.cgi?mode=Info&id=9871&lvl=3&lin=f&keep=1&srchmode=1&unlock\n",
    "\n",
    "query = f\"MATCH (N) WHERE N.id = 'ncbitaxon:9871' RETURN N\"\n",
    "print(client.query_tx(query)[0][0]._properties)"
   ]
  },
  {
   "cell_type": "code",
   "execution_count": 104,
   "id": "76ad40ec-188b-4c2f-a5ee-c9f816cb67b3",
   "metadata": {},
   "outputs": [
    {
     "name": "stdout",
     "output_type": "stream",
     "text": [
      "[]\n"
     ]
    }
   ],
   "source": [
    "relation_query = f\"MATCH (source)-[r:subclass_of]->(target) WHERE target.id = 'ncbitaxon:9871' RETURN source, r, target\"\n",
    "result = client.query_tx(relation_query)\n",
    "print(result)"
   ]
  },
  {
   "cell_type": "markdown",
   "id": "8aede484-2e9d-4955-ac5d-ab6149b14edc",
   "metadata": {},
   "source": [
    "## Add the ontology subtree full of terms under the term"
   ]
  },
  {
   "cell_type": "code",
   "execution_count": 105,
   "id": "f816fed8-a07b-410f-b1d5-1dc6976f64e0",
   "metadata": {},
   "outputs": [
    {
     "data": {
      "text/plain": [
       "200"
      ]
     },
     "execution_count": 105,
     "metadata": {},
     "output_type": "execute_result"
    }
   ],
   "source": [
    "params = {\"curie\": curie, \"add_subtree\": True}\n",
    "response = requests.post(\"http://localhost:8000/api/add_ontology_subtree\", params=params)\n",
    "response.status_code"
   ]
  },
  {
   "cell_type": "markdown",
   "id": "2c258d50-9c5e-487e-bacd-053ca65f033a",
   "metadata": {},
   "source": [
    "## Relationship info has been added\n",
    "We now see that there is a plethora of relationship info added where ```ncbitaxon:9871``` is the target node now under relation type ```subclass_of```. The number of relations added under this constraint is 5 because there are 5 direct ncbitaxonomy terms under ```ncbitaxon:9871```. "
   ]
  },
  {
   "cell_type": "code",
   "execution_count": 119,
   "id": "ca6a8c94-2814-419b-8cf0-0e938b9b3e26",
   "metadata": {},
   "outputs": [
    {
     "name": "stdout",
     "output_type": "stream",
     "text": [
      "The number of relations added to the EPI DKG where the target node has curie 'ncbitaxon:9871' and the relation type is 'subclass_of' is 5\n"
     ]
    }
   ],
   "source": [
    "relation_query = f\"MATCH (source)-[r:subclass_of]->(target) WHERE target.id = 'ncbitaxon:9871' RETURN source, r, target\"\n",
    "result = client.query_tx(relation_query)\n",
    "print(f\"The number of relations added to the EPI DKG where the target node has curie 'ncbitaxon:9871' and the relation type is 'subclass_of' is {len(result)}\")"
   ]
  },
  {
   "cell_type": "code",
   "execution_count": 137,
   "id": "bb1c69f4-c028-4e2f-9d87-f5da8dfa6803",
   "metadata": {},
   "outputs": [
    {
     "name": "stdout",
     "output_type": "stream",
     "text": [
      "Source Node: <Node element_id='3099' labels=frozenset() properties={'xref_types': [''], 'xrefs': ['gc_id:1'], 'name': 'unclassified Odocoileus', 'obsolete': False, 'id': 'ncbitaxon:2625720', 'type': 'class'}>\n",
      "\n"
     ]
    },
    {
     "ename": "AttributeError",
     "evalue": "'subclass_of' object has no attribute 'properties'",
     "output_type": "error",
     "traceback": [
      "\u001b[0;31m---------------------------------------------------------------------------\u001b[0m",
      "\u001b[0;31mAttributeError\u001b[0m                            Traceback (most recent call last)",
      "Cell \u001b[0;32mIn[137], line 3\u001b[0m\n\u001b[1;32m      1\u001b[0m \u001b[38;5;28mprint\u001b[39m(\u001b[38;5;124mf\u001b[39m\u001b[38;5;124m\"\u001b[39m\u001b[38;5;124mSource Node: \u001b[39m\u001b[38;5;132;01m{\u001b[39;00mresult[\u001b[38;5;241m0\u001b[39m][\u001b[38;5;241m0\u001b[39m]\u001b[38;5;132;01m}\u001b[39;00m\u001b[38;5;124m\"\u001b[39m) \n\u001b[1;32m      2\u001b[0m \u001b[38;5;28mprint\u001b[39m()\n\u001b[0;32m----> 3\u001b[0m \u001b[38;5;28mprint\u001b[39m(\u001b[38;5;124mf\u001b[39m\u001b[38;5;124m\"\u001b[39m\u001b[38;5;124mRelation Type: \u001b[39m\u001b[38;5;132;01m{\u001b[39;00mresult[\u001b[38;5;241m0\u001b[39m][\u001b[38;5;241m1\u001b[39m]\u001b[38;5;241m.\u001b[39mtype\u001b[38;5;132;01m}\u001b[39;00m\u001b[38;5;124m, \u001b[39m\u001b[38;5;132;01m{\u001b[39;00m\u001b[43mresult\u001b[49m\u001b[43m[\u001b[49m\u001b[38;5;241;43m0\u001b[39;49m\u001b[43m]\u001b[49m\u001b[43m[\u001b[49m\u001b[38;5;241;43m1\u001b[39;49m\u001b[43m]\u001b[49m\u001b[38;5;241;43m.\u001b[39;49m\u001b[43mproperties\u001b[49m\u001b[38;5;132;01m}\u001b[39;00m\u001b[38;5;124m\"\u001b[39m)\n\u001b[1;32m      4\u001b[0m \u001b[38;5;28mprint\u001b[39m()\n\u001b[1;32m      5\u001b[0m \u001b[38;5;28mprint\u001b[39m(\u001b[38;5;124mf\u001b[39m\u001b[38;5;124m\"\u001b[39m\u001b[38;5;124mTarget Node: \u001b[39m\u001b[38;5;132;01m{\u001b[39;00mresult[\u001b[38;5;241m0\u001b[39m][\u001b[38;5;241m2\u001b[39m]\u001b[38;5;132;01m}\u001b[39;00m\u001b[38;5;124m\"\u001b[39m)\n",
      "\u001b[0;31mAttributeError\u001b[0m: 'subclass_of' object has no attribute 'properties'"
     ]
    }
   ],
   "source": [
    "print(f\"Source Node: {result[0][0]}\") \n",
    "print()\n",
    "print(f\"Relation Type: {result[0][1].type}, {result[0][1].properties}\")\n",
    "print()\n",
    "print(f\"Target Node: {result[0][2]}\")"
   ]
  },
  {
   "cell_type": "code",
   "execution_count": 146,
   "id": "3d3d71c8-75e9-4f6d-862c-0519808328af",
   "metadata": {},
   "outputs": [
    {
     "ename": "AttributeError",
     "evalue": "'subclass_of' object has no attribute 'properties'",
     "output_type": "error",
     "traceback": [
      "\u001b[0;31m---------------------------------------------------------------------------\u001b[0m",
      "\u001b[0;31mAttributeError\u001b[0m                            Traceback (most recent call last)",
      "Cell \u001b[0;32mIn[146], line 1\u001b[0m\n\u001b[0;32m----> 1\u001b[0m \u001b[43mresult\u001b[49m\u001b[43m[\u001b[49m\u001b[38;5;241;43m0\u001b[39;49m\u001b[43m]\u001b[49m\u001b[43m[\u001b[49m\u001b[38;5;241;43m1\u001b[39;49m\u001b[43m]\u001b[49m\u001b[38;5;241;43m.\u001b[39;49m\u001b[43mproperties\u001b[49m\n",
      "\u001b[0;31mAttributeError\u001b[0m: 'subclass_of' object has no attribute 'properties'"
     ]
    }
   ],
   "source": [
    "result[0][1].properties"
   ]
  }
 ],
 "metadata": {
  "kernelspec": {
   "display_name": "Python 3 (ipykernel)",
   "language": "python",
   "name": "python3"
  },
  "language_info": {
   "codemirror_mode": {
    "name": "ipython",
    "version": 3
   },
   "file_extension": ".py",
   "mimetype": "text/x-python",
   "name": "python",
   "nbconvert_exporter": "python",
   "pygments_lexer": "ipython3",
   "version": "3.10.12"
  }
 },
 "nbformat": 4,
 "nbformat_minor": 5
}
