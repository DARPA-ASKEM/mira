{
 "cells": [
  {
   "cell_type": "code",
   "execution_count": 1,
   "id": "468f82df-cdec-4e65-b90d-8f02d6159363",
   "metadata": {},
   "outputs": [
    {
     "data": {
      "text/plain": [
       "<pandas.io.excel._base.ExcelFile at 0x76220e39b670>"
      ]
     },
     "execution_count": 1,
     "metadata": {},
     "output_type": "execute_result"
    }
   ],
   "source": [
    "import pandas as pd\n",
    "\n",
    "url = \"https://docs.google.com/spreadsheets/d/e/2PACX-1vQ2G-ZFSotS2qo94mnTWCDvj9Y49ai-9O61DA7940sPYynEdBXq2cT2-Wl3nNldIb3gkpbPFaTFY2PJ/pub?output=xlsx\"\n",
    "\n",
    "xls = pd.ExcelFile(url)\n",
    "xls"
   ]
  },
  {
   "cell_type": "code",
   "execution_count": 2,
   "id": "ba2f4108-47a1-49f2-9ef2-d4a313657c4d",
   "metadata": {},
   "outputs": [
    {
     "data": {
      "text/plain": [
       "{'BIOMD0000000955',\n",
       " 'BIOMD0000000956',\n",
       " 'BIOMD0000000957',\n",
       " 'BIOMD0000000958',\n",
       " 'BIOMD0000000960'}"
      ]
     },
     "execution_count": 2,
     "metadata": {},
     "output_type": "execute_result"
    }
   ],
   "source": [
    "sheets = {\n",
    "    sheet_name: pd.read_excel(xls, sheet_name)\n",
    "    for sheet_name in xls.sheet_names\n",
    "}\n",
    "for sheet in sheets.values():\n",
    "    sheet['grounding'] = sheet['grounding'].map(eval)\n",
    "set(sheets)"
   ]
  },
  {
   "cell_type": "code",
   "execution_count": 5,
   "id": "60ce40af-7bc6-416a-81e1-d96612efdf9a",
   "metadata": {},
   "outputs": [],
   "source": [
    "from collections import defaultdict\n",
    "ground_truth_df = pd.read_csv(\"../mira/resources/mapped_biomodels_groundings.csv\", sep=',')\n",
    "dd = defaultdict(set)\n",
    "for row_index,entry in ground_truth_df.iterrows():\n",
    "    model_id = entry[\"model\"]\n",
    "    if not pd.isna(entry[\"identifiers\"]):\n",
    "        curie = entry[\"identifiers\"].split(\"/\")[0]\n",
    "    else:\n",
    "        curie = entry[\"mapped_identifiers\"].split(\"/\")[0]\n",
    "\n",
    "    dd[model_id].add(curie)\n",
    "dd = dict(dd)"
   ]
  },
  {
   "cell_type": "code",
   "execution_count": 6,
   "id": "b2405282-a785-4897-8cc5-81d8f28baf42",
   "metadata": {},
   "outputs": [
    {
     "name": "stdout",
     "output_type": "stream",
     "text": [
      "The way to interpret the precision is the percent\n"
     ]
    },
    {
     "data": {
      "text/html": [
       "<div>\n",
       "<style scoped>\n",
       "    .dataframe tbody tr th:only-of-type {\n",
       "        vertical-align: middle;\n",
       "    }\n",
       "\n",
       "    .dataframe tbody tr th {\n",
       "        vertical-align: top;\n",
       "    }\n",
       "\n",
       "    .dataframe thead th {\n",
       "        text-align: right;\n",
       "    }\n",
       "</style>\n",
       "<table border=\"1\" class=\"dataframe\">\n",
       "  <thead>\n",
       "    <tr style=\"text-align: right;\">\n",
       "      <th></th>\n",
       "      <th>model</th>\n",
       "      <th>structured</th>\n",
       "      <th>TA-1</th>\n",
       "      <th>precision</th>\n",
       "    </tr>\n",
       "  </thead>\n",
       "  <tbody>\n",
       "    <tr>\n",
       "      <th>0</th>\n",
       "      <td>BIOMD0000000955</td>\n",
       "      <td>4</td>\n",
       "      <td>0</td>\n",
       "      <td>0.00</td>\n",
       "    </tr>\n",
       "    <tr>\n",
       "      <th>1</th>\n",
       "      <td>BIOMD0000000956</td>\n",
       "      <td>3</td>\n",
       "      <td>0</td>\n",
       "      <td>0.00</td>\n",
       "    </tr>\n",
       "    <tr>\n",
       "      <th>2</th>\n",
       "      <td>BIOMD0000000957</td>\n",
       "      <td>4</td>\n",
       "      <td>1</td>\n",
       "      <td>0.25</td>\n",
       "    </tr>\n",
       "    <tr>\n",
       "      <th>3</th>\n",
       "      <td>BIOMD0000000958</td>\n",
       "      <td>6</td>\n",
       "      <td>1</td>\n",
       "      <td>0.17</td>\n",
       "    </tr>\n",
       "    <tr>\n",
       "      <th>4</th>\n",
       "      <td>BIOMD0000000960</td>\n",
       "      <td>4</td>\n",
       "      <td>0</td>\n",
       "      <td>0.00</td>\n",
       "    </tr>\n",
       "  </tbody>\n",
       "</table>\n",
       "</div>"
      ],
      "text/plain": [
       "             model  structured  TA-1  precision\n",
       "0  BIOMD0000000955           4     0       0.00\n",
       "1  BIOMD0000000956           3     0       0.00\n",
       "2  BIOMD0000000957           4     1       0.25\n",
       "3  BIOMD0000000958           6     1       0.17\n",
       "4  BIOMD0000000960           4     0       0.00"
      ]
     },
     "execution_count": 6,
     "metadata": {},
     "output_type": "execute_result"
    }
   ],
   "source": [
    "rows = []\n",
    "for model_id, sheet in sheets.items():\n",
    "    sheet_curies = {\n",
    "        grounding[\"id\"]\n",
    "        for groundings in sheet[\"grounding\"]\n",
    "        for grounding in groundings\n",
    "    }\n",
    "    ground_truth_curies = dd[model_id]\n",
    "\n",
    "    intersection_curies = sheet_curies & ground_truth_curies\n",
    "    n_intersection = len(intersection_curies)\n",
    "    n_ground_truth = len(ground_truth_curies)\n",
    "    n_sheet = len(sheet_curies)\n",
    "    rows.append((\n",
    "        model_id,\n",
    "        n_ground_truth,\n",
    "        n_intersection,\n",
    "        round(n_intersection / n_ground_truth, 2)\n",
    "    ))\n",
    "\n",
    "print(\"The way to interpret the precision is the percent\")\n",
    "pd.DataFrame(rows, columns=[\"model\", \"structured\", \"TA-1\", \"precision\"])"
   ]
  }
 ],
 "metadata": {
  "kernelspec": {
   "display_name": "Python 3 (ipykernel)",
   "language": "python",
   "name": "python3"
  },
  "language_info": {
   "codemirror_mode": {
    "name": "ipython",
    "version": 3
   },
   "file_extension": ".py",
   "mimetype": "text/x-python",
   "name": "python",
   "nbconvert_exporter": "python",
   "pygments_lexer": "ipython3",
   "version": "3.10.12"
  }
 },
 "nbformat": 4,
 "nbformat_minor": 5
}
